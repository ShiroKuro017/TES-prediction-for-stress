{
 "cells": [
  {
   "cell_type": "markdown",
   "id": "b96fc6b1",
   "metadata": {},
   "source": [
    "# Prediksi Tingkat Stres Mahasiswa dengan Machine Learning"
   ]
  },
  {
   "cell_type": "code",
   "execution_count": 1,
   "id": "c2fccd06",
   "metadata": {},
   "outputs": [],
   "source": [
    "# Import library yang dibutuhkan\n",
    "import pandas as pd\n",
    "import numpy as np\n",
    "import seaborn as sns\n",
    "import matplotlib.pyplot as plt\n",
    "\n",
    "from sklearn.model_selection import train_test_split\n",
    "from sklearn.preprocessing import StandardScaler\n",
    "from sklearn.pipeline import Pipeline\n",
    "\n",
    "# Import 5 model klasifikasi\n",
    "from sklearn.linear_model import LogisticRegression\n",
    "from sklearn.neighbors import KNeighborsClassifier\n",
    "from sklearn.svm import SVC\n",
    "from sklearn.tree import DecisionTreeClassifier\n",
    "from sklearn.ensemble import RandomForestClassifier\n",
    "\n",
    "# Import metrik evaluasi\n",
    "from sklearn.metrics import classification_report, accuracy_score\n"
   ]
  },
  {
   "cell_type": "markdown",
   "id": "b60c54ba",
   "metadata": {},
   "source": [
    "## Langkah 1: Eksplorasi dan Analisis Data (EDA)\n",
    "\n",
    "Pertama, kita akan memuat dataset `student_lifestyle_dataset.csv` dan melihat isinya untuk memahami struktur dan karakteristik data."
   ]
  },
  {
   "cell_type": "code",
   "execution_count": 2,
   "id": "3fd78d12",
   "metadata": {},
   "outputs": [],
   "source": [
    "# Memuat dataset\n",
    "file_path = 'student_lifestyle_dataset.csv'\n",
    "df = pd.read_csv(file_path)"
   ]
  },
  {
   "cell_type": "code",
   "execution_count": 3,
   "id": "1d002a14",
   "metadata": {},
   "outputs": [
    {
     "name": "stdout",
     "output_type": "stream",
     "text": [
      "Tampilan Awal Dataset:\n"
     ]
    },
    {
     "data": {
      "application/vnd.microsoft.datawrangler.viewer.v0+json": {
       "columns": [
        {
         "name": "index",
         "rawType": "int64",
         "type": "integer"
        },
        {
         "name": "student_id",
         "rawType": "object",
         "type": "string"
        },
        {
         "name": "name",
         "rawType": "object",
         "type": "string"
        },
        {
         "name": "gpa",
         "rawType": "float64",
         "type": "float"
        },
        {
         "name": "weekly_study_hours",
         "rawType": "float64",
         "type": "float"
        },
        {
         "name": "sleep_hours_per_night",
         "rawType": "float64",
         "type": "float"
        },
        {
         "name": "social_events_per_week",
         "rawType": "float64",
         "type": "float"
        },
        {
         "name": "exercise_hours_per_week",
         "rawType": "float64",
         "type": "float"
        },
        {
         "name": "part_time_job_hours",
         "rawType": "int64",
         "type": "integer"
        },
        {
         "name": "commute_time_minutes",
         "rawType": "int64",
         "type": "integer"
        },
        {
         "name": "financial_stress_level",
         "rawType": "float64",
         "type": "float"
        },
        {
         "name": "assignments_due_this_week",
         "rawType": "int64",
         "type": "integer"
        },
        {
         "name": "classes_per_week",
         "rawType": "int64",
         "type": "integer"
        },
        {
         "name": "extracurricular_hours",
         "rawType": "float64",
         "type": "float"
        }
       ],
       "ref": "7667815a-fc0f-42d1-bf67-63fb7c4dbef3",
       "rows": [
        [
         "0",
         "STU_0001",
         "Mary Trevino",
         "3.45",
         "23.9",
         "7.3",
         "3.6",
         "0.1",
         "0",
         "30",
         "2.0",
         "2",
         "23",
         "0.4"
        ],
        [
         "1",
         "STU_0002",
         "Hunter Weaver",
         "3.32",
         "10.0",
         "4.4",
         "2.9",
         "0.7",
         "0",
         "37",
         "1.4",
         "5",
         "20",
         "6.7"
        ],
        [
         "2",
         "STU_0003",
         "Madison Reid",
         "2.9",
         "32.6",
         "6.8",
         "0.6",
         "3.3",
         "11",
         "7",
         "1.5",
         "2",
         "24",
         "7.0"
        ],
        [
         "3",
         "STU_0004",
         "Mark Stout",
         "3.31",
         "32.1",
         "5.3",
         "0.0",
         "4.9",
         "0",
         "4",
         "2.8",
         "0",
         "20",
         "3.0"
        ],
        [
         "4",
         "STU_0005",
         "Joseph Smith",
         "3.49",
         "32.1",
         "7.6",
         "2.0",
         "0.2",
         "0",
         "10",
         "2.2",
         "3",
         "14",
         "1.3"
        ]
       ],
       "shape": {
        "columns": 13,
        "rows": 5
       }
      },
      "text/html": [
       "<div>\n",
       "<style scoped>\n",
       "    .dataframe tbody tr th:only-of-type {\n",
       "        vertical-align: middle;\n",
       "    }\n",
       "\n",
       "    .dataframe tbody tr th {\n",
       "        vertical-align: top;\n",
       "    }\n",
       "\n",
       "    .dataframe thead th {\n",
       "        text-align: right;\n",
       "    }\n",
       "</style>\n",
       "<table border=\"1\" class=\"dataframe\">\n",
       "  <thead>\n",
       "    <tr style=\"text-align: right;\">\n",
       "      <th></th>\n",
       "      <th>student_id</th>\n",
       "      <th>name</th>\n",
       "      <th>gpa</th>\n",
       "      <th>weekly_study_hours</th>\n",
       "      <th>sleep_hours_per_night</th>\n",
       "      <th>social_events_per_week</th>\n",
       "      <th>exercise_hours_per_week</th>\n",
       "      <th>part_time_job_hours</th>\n",
       "      <th>commute_time_minutes</th>\n",
       "      <th>financial_stress_level</th>\n",
       "      <th>assignments_due_this_week</th>\n",
       "      <th>classes_per_week</th>\n",
       "      <th>extracurricular_hours</th>\n",
       "    </tr>\n",
       "  </thead>\n",
       "  <tbody>\n",
       "    <tr>\n",
       "      <th>0</th>\n",
       "      <td>STU_0001</td>\n",
       "      <td>Mary Trevino</td>\n",
       "      <td>3.45</td>\n",
       "      <td>23.9</td>\n",
       "      <td>7.3</td>\n",
       "      <td>3.6</td>\n",
       "      <td>0.1</td>\n",
       "      <td>0</td>\n",
       "      <td>30</td>\n",
       "      <td>2.0</td>\n",
       "      <td>2</td>\n",
       "      <td>23</td>\n",
       "      <td>0.4</td>\n",
       "    </tr>\n",
       "    <tr>\n",
       "      <th>1</th>\n",
       "      <td>STU_0002</td>\n",
       "      <td>Hunter Weaver</td>\n",
       "      <td>3.32</td>\n",
       "      <td>10.0</td>\n",
       "      <td>4.4</td>\n",
       "      <td>2.9</td>\n",
       "      <td>0.7</td>\n",
       "      <td>0</td>\n",
       "      <td>37</td>\n",
       "      <td>1.4</td>\n",
       "      <td>5</td>\n",
       "      <td>20</td>\n",
       "      <td>6.7</td>\n",
       "    </tr>\n",
       "    <tr>\n",
       "      <th>2</th>\n",
       "      <td>STU_0003</td>\n",
       "      <td>Madison Reid</td>\n",
       "      <td>2.90</td>\n",
       "      <td>32.6</td>\n",
       "      <td>6.8</td>\n",
       "      <td>0.6</td>\n",
       "      <td>3.3</td>\n",
       "      <td>11</td>\n",
       "      <td>7</td>\n",
       "      <td>1.5</td>\n",
       "      <td>2</td>\n",
       "      <td>24</td>\n",
       "      <td>7.0</td>\n",
       "    </tr>\n",
       "    <tr>\n",
       "      <th>3</th>\n",
       "      <td>STU_0004</td>\n",
       "      <td>Mark Stout</td>\n",
       "      <td>3.31</td>\n",
       "      <td>32.1</td>\n",
       "      <td>5.3</td>\n",
       "      <td>0.0</td>\n",
       "      <td>4.9</td>\n",
       "      <td>0</td>\n",
       "      <td>4</td>\n",
       "      <td>2.8</td>\n",
       "      <td>0</td>\n",
       "      <td>20</td>\n",
       "      <td>3.0</td>\n",
       "    </tr>\n",
       "    <tr>\n",
       "      <th>4</th>\n",
       "      <td>STU_0005</td>\n",
       "      <td>Joseph Smith</td>\n",
       "      <td>3.49</td>\n",
       "      <td>32.1</td>\n",
       "      <td>7.6</td>\n",
       "      <td>2.0</td>\n",
       "      <td>0.2</td>\n",
       "      <td>0</td>\n",
       "      <td>10</td>\n",
       "      <td>2.2</td>\n",
       "      <td>3</td>\n",
       "      <td>14</td>\n",
       "      <td>1.3</td>\n",
       "    </tr>\n",
       "  </tbody>\n",
       "</table>\n",
       "</div>"
      ],
      "text/plain": [
       "  student_id           name   gpa  weekly_study_hours  sleep_hours_per_night  \\\n",
       "0   STU_0001   Mary Trevino  3.45                23.9                    7.3   \n",
       "1   STU_0002  Hunter Weaver  3.32                10.0                    4.4   \n",
       "2   STU_0003   Madison Reid  2.90                32.6                    6.8   \n",
       "3   STU_0004     Mark Stout  3.31                32.1                    5.3   \n",
       "4   STU_0005   Joseph Smith  3.49                32.1                    7.6   \n",
       "\n",
       "   social_events_per_week  exercise_hours_per_week  part_time_job_hours  \\\n",
       "0                     3.6                      0.1                    0   \n",
       "1                     2.9                      0.7                    0   \n",
       "2                     0.6                      3.3                   11   \n",
       "3                     0.0                      4.9                    0   \n",
       "4                     2.0                      0.2                    0   \n",
       "\n",
       "   commute_time_minutes  financial_stress_level  assignments_due_this_week  \\\n",
       "0                    30                     2.0                          2   \n",
       "1                    37                     1.4                          5   \n",
       "2                     7                     1.5                          2   \n",
       "3                     4                     2.8                          0   \n",
       "4                    10                     2.2                          3   \n",
       "\n",
       "   classes_per_week  extracurricular_hours  \n",
       "0                23                    0.4  \n",
       "1                20                    6.7  \n",
       "2                24                    7.0  \n",
       "3                20                    3.0  \n",
       "4                14                    1.3  "
      ]
     },
     "metadata": {},
     "output_type": "display_data"
    }
   ],
   "source": [
    "# Menampilkan 5 baris pertama\n",
    "print(\"Tampilan Awal Dataset:\")\n",
    "display(df.head())"
   ]
  },
  {
   "cell_type": "code",
   "execution_count": 4,
   "id": "190a49a2",
   "metadata": {},
   "outputs": [
    {
     "name": "stdout",
     "output_type": "stream",
     "text": [
      "\n",
      "Informasi Dataset:\n",
      "<class 'pandas.core.frame.DataFrame'>\n",
      "RangeIndex: 300 entries, 0 to 299\n",
      "Data columns (total 13 columns):\n",
      " #   Column                     Non-Null Count  Dtype  \n",
      "---  ------                     --------------  -----  \n",
      " 0   student_id                 300 non-null    object \n",
      " 1   name                       300 non-null    object \n",
      " 2   gpa                        300 non-null    float64\n",
      " 3   weekly_study_hours         300 non-null    float64\n",
      " 4   sleep_hours_per_night      300 non-null    float64\n",
      " 5   social_events_per_week     300 non-null    float64\n",
      " 6   exercise_hours_per_week    300 non-null    float64\n",
      " 7   part_time_job_hours        300 non-null    int64  \n",
      " 8   commute_time_minutes       300 non-null    int64  \n",
      " 9   financial_stress_level     300 non-null    float64\n",
      " 10  assignments_due_this_week  300 non-null    int64  \n",
      " 11  classes_per_week           300 non-null    int64  \n",
      " 12  extracurricular_hours      300 non-null    float64\n",
      "dtypes: float64(7), int64(4), object(2)\n",
      "memory usage: 30.6+ KB\n"
     ]
    }
   ],
   "source": [
    "# Menampilkan informasi ringkas tentang dataset\n",
    "print(\"\\nInformasi Dataset:\")\n",
    "df.info()"
   ]
  },
  {
   "cell_type": "code",
   "execution_count": 5,
   "id": "f034be99",
   "metadata": {},
   "outputs": [
    {
     "name": "stdout",
     "output_type": "stream",
     "text": [
      "\n",
      "Statistik Deskriptif:\n"
     ]
    },
    {
     "data": {
      "application/vnd.microsoft.datawrangler.viewer.v0+json": {
       "columns": [
        {
         "name": "index",
         "rawType": "object",
         "type": "string"
        },
        {
         "name": "gpa",
         "rawType": "float64",
         "type": "float"
        },
        {
         "name": "weekly_study_hours",
         "rawType": "float64",
         "type": "float"
        },
        {
         "name": "sleep_hours_per_night",
         "rawType": "float64",
         "type": "float"
        },
        {
         "name": "social_events_per_week",
         "rawType": "float64",
         "type": "float"
        },
        {
         "name": "exercise_hours_per_week",
         "rawType": "float64",
         "type": "float"
        },
        {
         "name": "part_time_job_hours",
         "rawType": "float64",
         "type": "float"
        },
        {
         "name": "commute_time_minutes",
         "rawType": "float64",
         "type": "float"
        },
        {
         "name": "financial_stress_level",
         "rawType": "float64",
         "type": "float"
        },
        {
         "name": "assignments_due_this_week",
         "rawType": "float64",
         "type": "float"
        },
        {
         "name": "classes_per_week",
         "rawType": "float64",
         "type": "float"
        },
        {
         "name": "extracurricular_hours",
         "rawType": "float64",
         "type": "float"
        }
       ],
       "ref": "148e6b0b-6910-4cbc-8dc2-e31b92f18e44",
       "rows": [
        [
         "count",
         "300.0",
         "300.0",
         "300.0",
         "300.0",
         "300.0",
         "300.0",
         "300.0",
         "300.0",
         "300.0",
         "300.0",
         "300.0"
        ],
        [
         "mean",
         "3.168633333333333",
         "25.533",
         "6.495666666666668",
         "1.9443333333333332",
         "2.9313333333333333",
         "4.633333333333334",
         "22.333333333333332",
         "2.1483333333333334",
         "2.453333333333333",
         "18.266666666666666",
         "2.1153333333333335"
        ],
        [
         "std",
         "0.46194057612980843",
         "7.644654787676325",
         "1.2357879247151573",
         "1.1586238617712723",
         "2.8548529747162776",
         "7.809107680444117",
         "21.865250654317748",
         "0.6659144306782271",
         "1.5282694725816426",
         "3.7801924650027745",
         "2.0915097255321426"
        ],
        [
         "min",
         "2.0",
         "10.0",
         "4.0",
         "0.0",
         "0.0",
         "0.0",
         "0.0",
         "1.0",
         "0.0",
         "12.0",
         "0.0"
        ],
        [
         "25%",
         "2.8175",
         "20.475",
         "5.675",
         "1.2",
         "0.8",
         "0.0",
         "6.0",
         "1.6",
         "1.0",
         "15.0",
         "0.7"
        ],
        [
         "50%",
         "3.2",
         "25.7",
         "6.5",
         "1.9",
         "2.0",
         "0.0",
         "15.0",
         "2.0",
         "2.0",
         "18.0",
         "1.5"
        ],
        [
         "75%",
         "3.51",
         "30.5",
         "7.4",
         "2.8",
         "4.2",
         "11.25",
         "31.0",
         "2.6",
         "3.0",
         "22.0",
         "2.925"
        ],
        [
         "max",
         "4.0",
         "50.0",
         "9.6",
         "5.2",
         "16.8",
         "24.0",
         "123.0",
         "3.8",
         "7.0",
         "24.0",
         "16.3"
        ]
       ],
       "shape": {
        "columns": 11,
        "rows": 8
       }
      },
      "text/html": [
       "<div>\n",
       "<style scoped>\n",
       "    .dataframe tbody tr th:only-of-type {\n",
       "        vertical-align: middle;\n",
       "    }\n",
       "\n",
       "    .dataframe tbody tr th {\n",
       "        vertical-align: top;\n",
       "    }\n",
       "\n",
       "    .dataframe thead th {\n",
       "        text-align: right;\n",
       "    }\n",
       "</style>\n",
       "<table border=\"1\" class=\"dataframe\">\n",
       "  <thead>\n",
       "    <tr style=\"text-align: right;\">\n",
       "      <th></th>\n",
       "      <th>gpa</th>\n",
       "      <th>weekly_study_hours</th>\n",
       "      <th>sleep_hours_per_night</th>\n",
       "      <th>social_events_per_week</th>\n",
       "      <th>exercise_hours_per_week</th>\n",
       "      <th>part_time_job_hours</th>\n",
       "      <th>commute_time_minutes</th>\n",
       "      <th>financial_stress_level</th>\n",
       "      <th>assignments_due_this_week</th>\n",
       "      <th>classes_per_week</th>\n",
       "      <th>extracurricular_hours</th>\n",
       "    </tr>\n",
       "  </thead>\n",
       "  <tbody>\n",
       "    <tr>\n",
       "      <th>count</th>\n",
       "      <td>300.000000</td>\n",
       "      <td>300.000000</td>\n",
       "      <td>300.000000</td>\n",
       "      <td>300.000000</td>\n",
       "      <td>300.000000</td>\n",
       "      <td>300.000000</td>\n",
       "      <td>300.000000</td>\n",
       "      <td>300.000000</td>\n",
       "      <td>300.000000</td>\n",
       "      <td>300.000000</td>\n",
       "      <td>300.000000</td>\n",
       "    </tr>\n",
       "    <tr>\n",
       "      <th>mean</th>\n",
       "      <td>3.168633</td>\n",
       "      <td>25.533000</td>\n",
       "      <td>6.495667</td>\n",
       "      <td>1.944333</td>\n",
       "      <td>2.931333</td>\n",
       "      <td>4.633333</td>\n",
       "      <td>22.333333</td>\n",
       "      <td>2.148333</td>\n",
       "      <td>2.453333</td>\n",
       "      <td>18.266667</td>\n",
       "      <td>2.115333</td>\n",
       "    </tr>\n",
       "    <tr>\n",
       "      <th>std</th>\n",
       "      <td>0.461941</td>\n",
       "      <td>7.644655</td>\n",
       "      <td>1.235788</td>\n",
       "      <td>1.158624</td>\n",
       "      <td>2.854853</td>\n",
       "      <td>7.809108</td>\n",
       "      <td>21.865251</td>\n",
       "      <td>0.665914</td>\n",
       "      <td>1.528269</td>\n",
       "      <td>3.780192</td>\n",
       "      <td>2.091510</td>\n",
       "    </tr>\n",
       "    <tr>\n",
       "      <th>min</th>\n",
       "      <td>2.000000</td>\n",
       "      <td>10.000000</td>\n",
       "      <td>4.000000</td>\n",
       "      <td>0.000000</td>\n",
       "      <td>0.000000</td>\n",
       "      <td>0.000000</td>\n",
       "      <td>0.000000</td>\n",
       "      <td>1.000000</td>\n",
       "      <td>0.000000</td>\n",
       "      <td>12.000000</td>\n",
       "      <td>0.000000</td>\n",
       "    </tr>\n",
       "    <tr>\n",
       "      <th>25%</th>\n",
       "      <td>2.817500</td>\n",
       "      <td>20.475000</td>\n",
       "      <td>5.675000</td>\n",
       "      <td>1.200000</td>\n",
       "      <td>0.800000</td>\n",
       "      <td>0.000000</td>\n",
       "      <td>6.000000</td>\n",
       "      <td>1.600000</td>\n",
       "      <td>1.000000</td>\n",
       "      <td>15.000000</td>\n",
       "      <td>0.700000</td>\n",
       "    </tr>\n",
       "    <tr>\n",
       "      <th>50%</th>\n",
       "      <td>3.200000</td>\n",
       "      <td>25.700000</td>\n",
       "      <td>6.500000</td>\n",
       "      <td>1.900000</td>\n",
       "      <td>2.000000</td>\n",
       "      <td>0.000000</td>\n",
       "      <td>15.000000</td>\n",
       "      <td>2.000000</td>\n",
       "      <td>2.000000</td>\n",
       "      <td>18.000000</td>\n",
       "      <td>1.500000</td>\n",
       "    </tr>\n",
       "    <tr>\n",
       "      <th>75%</th>\n",
       "      <td>3.510000</td>\n",
       "      <td>30.500000</td>\n",
       "      <td>7.400000</td>\n",
       "      <td>2.800000</td>\n",
       "      <td>4.200000</td>\n",
       "      <td>11.250000</td>\n",
       "      <td>31.000000</td>\n",
       "      <td>2.600000</td>\n",
       "      <td>3.000000</td>\n",
       "      <td>22.000000</td>\n",
       "      <td>2.925000</td>\n",
       "    </tr>\n",
       "    <tr>\n",
       "      <th>max</th>\n",
       "      <td>4.000000</td>\n",
       "      <td>50.000000</td>\n",
       "      <td>9.600000</td>\n",
       "      <td>5.200000</td>\n",
       "      <td>16.800000</td>\n",
       "      <td>24.000000</td>\n",
       "      <td>123.000000</td>\n",
       "      <td>3.800000</td>\n",
       "      <td>7.000000</td>\n",
       "      <td>24.000000</td>\n",
       "      <td>16.300000</td>\n",
       "    </tr>\n",
       "  </tbody>\n",
       "</table>\n",
       "</div>"
      ],
      "text/plain": [
       "              gpa  weekly_study_hours  sleep_hours_per_night  \\\n",
       "count  300.000000          300.000000             300.000000   \n",
       "mean     3.168633           25.533000               6.495667   \n",
       "std      0.461941            7.644655               1.235788   \n",
       "min      2.000000           10.000000               4.000000   \n",
       "25%      2.817500           20.475000               5.675000   \n",
       "50%      3.200000           25.700000               6.500000   \n",
       "75%      3.510000           30.500000               7.400000   \n",
       "max      4.000000           50.000000               9.600000   \n",
       "\n",
       "       social_events_per_week  exercise_hours_per_week  part_time_job_hours  \\\n",
       "count              300.000000               300.000000           300.000000   \n",
       "mean                 1.944333                 2.931333             4.633333   \n",
       "std                  1.158624                 2.854853             7.809108   \n",
       "min                  0.000000                 0.000000             0.000000   \n",
       "25%                  1.200000                 0.800000             0.000000   \n",
       "50%                  1.900000                 2.000000             0.000000   \n",
       "75%                  2.800000                 4.200000            11.250000   \n",
       "max                  5.200000                16.800000            24.000000   \n",
       "\n",
       "       commute_time_minutes  financial_stress_level  \\\n",
       "count            300.000000              300.000000   \n",
       "mean              22.333333                2.148333   \n",
       "std               21.865251                0.665914   \n",
       "min                0.000000                1.000000   \n",
       "25%                6.000000                1.600000   \n",
       "50%               15.000000                2.000000   \n",
       "75%               31.000000                2.600000   \n",
       "max              123.000000                3.800000   \n",
       "\n",
       "       assignments_due_this_week  classes_per_week  extracurricular_hours  \n",
       "count                 300.000000        300.000000             300.000000  \n",
       "mean                    2.453333         18.266667               2.115333  \n",
       "std                     1.528269          3.780192               2.091510  \n",
       "min                     0.000000         12.000000               0.000000  \n",
       "25%                     1.000000         15.000000               0.700000  \n",
       "50%                     2.000000         18.000000               1.500000  \n",
       "75%                     3.000000         22.000000               2.925000  \n",
       "max                     7.000000         24.000000              16.300000  "
      ]
     },
     "metadata": {},
     "output_type": "display_data"
    }
   ],
   "source": [
    "# Menampilkan statistik deskriptif\n",
    "print(\"\\nStatistik Deskriptif:\")\n",
    "display(df.describe())"
   ]
  },
  {
   "cell_type": "code",
   "execution_count": 6,
   "id": "c174e0b4",
   "metadata": {},
   "outputs": [
    {
     "name": "stdout",
     "output_type": "stream",
     "text": [
      "\n",
      "Pemeriksaan Nilai Hilang:\n",
      "student_id                   0\n",
      "name                         0\n",
      "gpa                          0\n",
      "weekly_study_hours           0\n",
      "sleep_hours_per_night        0\n",
      "social_events_per_week       0\n",
      "exercise_hours_per_week      0\n",
      "part_time_job_hours          0\n",
      "commute_time_minutes         0\n",
      "financial_stress_level       0\n",
      "assignments_due_this_week    0\n",
      "classes_per_week             0\n",
      "extracurricular_hours        0\n",
      "dtype: int64\n"
     ]
    }
   ],
   "source": [
    "# Memeriksa nilai yang hilang (missing values)\n",
    "print(\"\\nPemeriksaan Nilai Hilang:\")\n",
    "print(df.isnull().sum())"
   ]
  },
  {
   "cell_type": "markdown",
   "id": "84ada325",
   "metadata": {},
   "source": [
    "## Langkah 2: Pra-pemrosesan Data (Data Preprocessing)\n",
    "\n",
    "Dataset ini tidak memiliki kolom `stress_level`. Oleh karena itu, kita akan membuatnya (**Feature Engineering**). Kita akan membuat kategori stres (0: Rendah, 1: Sedang, 2: Tinggi) berdasarkan aturan dari fitur lain seperti jam belajar, jam tidur, dan beban tugas.\n",
    "\n",
    "Setelah itu, kita akan memisahkan data fitur (X) dan target (y), lalu membaginya menjadi data latih dan data uji."
   ]
  },
  {
   "cell_type": "code",
   "execution_count": 7,
   "id": "6fb46fc5",
   "metadata": {},
   "outputs": [
    {
     "name": "stdout",
     "output_type": "stream",
     "text": [
      "Kolom 'stress_level' berhasil dibuat.\n",
      "Distribusi tingkat stres yang dihasilkan:\n",
      "stress_level\n",
      "2    185\n",
      "1    103\n",
      "0     12\n",
      "Name: count, dtype: int64\n"
     ]
    }
   ],
   "source": [
    "# === Feature Engineering: Membuat kolom 'stress_level' ===\n",
    "# Aturan ini bisa disesuaikan sesuai dengan hipotesis Anda.\n",
    "\n",
    "conditions = [\n",
    "    # Kondisi untuk stres TINGGI (2)\n",
    "    (df['weekly_study_hours'] > 30) | (df['sleep_hours_per_night'] < 6) | (df['assignments_due_this_week'] >= 4),\n",
    "    # Kondisi untuk stres SEDANG (1)\n",
    "    (df['weekly_study_hours'] > 20) | (df['sleep_hours_per_night'] < 7) | (df['financial_stress_level'] >= 3),\n",
    "]\n",
    "\n",
    "# Tentukan nilai untuk setiap kondisi. Jumlahnya harus sama dengan jumlah kondisi di atas.\n",
    "# Nilai 0 untuk stres RENDAH akan ditangani oleh parameter 'default=0'.\n",
    "stress_values = [2, 1]  # <--- INI BAGIAN YANG DIPERBAIKI\n",
    "\n",
    "# Buat kolom 'stress_level' menggunakan np.select\n",
    "# Jika tidak ada kondisi yang terpenuhi, nilainya akan menjadi 0 (default).\n",
    "df['stress_level'] = np.select(conditions, stress_values, default=0)\n",
    "\n",
    "print(\"Kolom 'stress_level' berhasil dibuat.\")\n",
    "print(\"Distribusi tingkat stres yang dihasilkan:\")\n",
    "print(df['stress_level'].value_counts())"
   ]
  },
  {
   "cell_type": "code",
   "execution_count": 8,
   "id": "2fcc92dd",
   "metadata": {},
   "outputs": [],
   "source": [
    "# === Memisahkan Fitur dan Target ===\n",
    "# Kita tidak akan menggunakan 'student_id' dan 'name' untuk prediksi\n",
    "X = df.drop(['student_id', 'name', 'stress_level'], axis=1)\n",
    "y = df['stress_level']"
   ]
  },
  {
   "cell_type": "code",
   "execution_count": 9,
   "id": "5af6f813",
   "metadata": {},
   "outputs": [
    {
     "name": "stdout",
     "output_type": "stream",
     "text": [
      "\n",
      "Bentuk data latih (X_train): (225, 11)\n",
      "Bentuk data uji (X_test): (75, 11)\n"
     ]
    }
   ],
   "source": [
    "# === Membagi Data Latih dan Data Uji ===\n",
    "X_train, X_test, y_train, y_test = train_test_split(X, y, test_size=0.25, random_state=42, stratify=y)\n",
    "\n",
    "print(f\"\\nBentuk data latih (X_train): {X_train.shape}\")\n",
    "print(f\"Bentuk data uji (X_test): {X_test.shape}\")"
   ]
  },
  {
   "cell_type": "markdown",
   "id": "3b4677ca",
   "metadata": {},
   "source": [
    "## Langkah 3: Pemodelan (Modeling)\n",
    "\n",
    "Sekarang, kita akan melatih lima model klasifikasi yang berbeda. Setiap model akan dimasukkan ke dalam *pipeline* yang juga mencakup penskalaan data (`StandardScaler`) untuk memastikan semua fitur memiliki skala yang sama, sehingga performa model menjadi lebih baik."
   ]
  },
  {
   "cell_type": "code",
   "execution_count": 10,
   "id": "09087d46",
   "metadata": {},
   "outputs": [],
   "source": [
    "# Inisialisasi lima model\n",
    "models = {\n",
    "    \"Logistic Regression\": LogisticRegression(max_iter=1000, random_state=42),\n",
    "    \"K-Nearest Neighbors\": KNeighborsClassifier(),\n",
    "    \"Support Vector Machine\": SVC(random_state=42),\n",
    "    \"Decision Tree\": DecisionTreeClassifier(random_state=42),\n",
    "    \"Random Forest\": RandomForestClassifier(random_state=42)\n",
    "}"
   ]
  },
  {
   "cell_type": "code",
   "execution_count": 11,
   "id": "93cee5b4",
   "metadata": {},
   "outputs": [
    {
     "name": "stdout",
     "output_type": "stream",
     "text": [
      " Model 'Logistic Regression' berhasil dilatih.\n",
      " Model 'K-Nearest Neighbors' berhasil dilatih.\n",
      " Model 'Support Vector Machine' berhasil dilatih.\n",
      " Model 'Decision Tree' berhasil dilatih.\n",
      " Model 'Random Forest' berhasil dilatih.\n"
     ]
    }
   ],
   "source": [
    "# Dictionary untuk menyimpan hasil\n",
    "results = {}\n",
    "\n",
    "# Melatih setiap model\n",
    "for name, model in models.items():\n",
    "    # Membuat pipeline untuk setiap model\n",
    "    pipeline = Pipeline(steps=[\n",
    "        ('scaler', StandardScaler()),\n",
    "        ('classifier', model)\n",
    "    ])\n",
    "    \n",
    "    # Melatih model dengan data latih\n",
    "    pipeline.fit(X_train, y_train)\n",
    "    \n",
    "    # Menyimpan model yang sudah dilatih\n",
    "    results[name] = pipeline\n",
    "    print(f\" Model '{name}' berhasil dilatih.\")"
   ]
  },
  {
   "cell_type": "markdown",
   "id": "c71a53af",
   "metadata": {},
   "source": [
    "## Langkah 4: Evaluasi Model (Evaluation)\n",
    "\n",
    "Setelah semua model dilatih, kita akan mengevaluasi kinerjanya menggunakan data uji yang belum pernah dilihat sebelumnya. Kita akan membandingkan akurasi dari kelima model tersebut untuk menentukan mana yang terbaik untuk dataset ini."
   ]
  },
  {
   "cell_type": "code",
   "execution_count": 12,
   "id": "afa06ecc",
   "metadata": {},
   "outputs": [
    {
     "name": "stdout",
     "output_type": "stream",
     "text": [
      "--- Laporan Klasifikasi untuk Logistic Regression ---\n",
      "Akurasi: 0.7067\n",
      "              precision    recall  f1-score   support\n",
      "\n",
      "      Rendah       0.50      0.33      0.40         3\n",
      "      Sedang       0.61      0.54      0.57        26\n",
      "      Tinggi       0.76      0.83      0.79        46\n",
      "\n",
      "    accuracy                           0.71        75\n",
      "   macro avg       0.62      0.57      0.59        75\n",
      "weighted avg       0.70      0.71      0.70        75\n",
      "\n",
      "-----------------------------------------------------------\n",
      "--- Laporan Klasifikasi untuk K-Nearest Neighbors ---\n",
      "Akurasi: 0.7200\n",
      "              precision    recall  f1-score   support\n",
      "\n",
      "      Rendah       0.00      0.00      0.00         3\n",
      "      Sedang       0.62      0.69      0.65        26\n",
      "      Tinggi       0.86      0.78      0.82        46\n",
      "\n",
      "    accuracy                           0.72        75\n",
      "   macro avg       0.49      0.49      0.49        75\n",
      "weighted avg       0.74      0.72      0.73        75\n",
      "\n",
      "-----------------------------------------------------------\n",
      "--- Laporan Klasifikasi untuk Support Vector Machine ---\n",
      "Akurasi: 0.7733\n",
      "              precision    recall  f1-score   support\n",
      "\n",
      "      Rendah       0.00      0.00      0.00         3\n",
      "      Sedang       0.70      0.62      0.65        26\n",
      "      Tinggi       0.81      0.91      0.86        46\n",
      "\n",
      "    accuracy                           0.77        75\n",
      "   macro avg       0.50      0.51      0.50        75\n",
      "weighted avg       0.74      0.77      0.75        75\n",
      "\n",
      "--------------------------------------------------------------\n",
      "--- Laporan Klasifikasi untuk Decision Tree ---\n",
      "Akurasi: 0.9867\n",
      "              precision    recall  f1-score   support\n",
      "\n",
      "      Rendah       1.00      0.67      0.80         3\n",
      "      Sedang       0.96      1.00      0.98        26\n",
      "      Tinggi       1.00      1.00      1.00        46\n",
      "\n",
      "    accuracy                           0.99        75\n",
      "   macro avg       0.99      0.89      0.93        75\n",
      "weighted avg       0.99      0.99      0.99        75\n",
      "\n",
      "-----------------------------------------------------\n",
      "--- Laporan Klasifikasi untuk Random Forest ---\n",
      "Akurasi: 0.9600\n",
      "              precision    recall  f1-score   support\n",
      "\n",
      "      Rendah       0.00      0.00      0.00         3\n",
      "      Sedang       0.90      1.00      0.95        26\n",
      "      Tinggi       1.00      1.00      1.00        46\n",
      "\n",
      "    accuracy                           0.96        75\n",
      "   macro avg       0.63      0.67      0.65        75\n",
      "weighted avg       0.92      0.96      0.94        75\n",
      "\n",
      "-----------------------------------------------------\n",
      "\n",
      "=== Perbandingan Akurasi Model ===\n"
     ]
    },
    {
     "name": "stderr",
     "output_type": "stream",
     "text": [
      "c:\\Users\\ShirO KurO\\anaconda3\\Lib\\site-packages\\sklearn\\metrics\\_classification.py:1565: UndefinedMetricWarning: Precision is ill-defined and being set to 0.0 in labels with no predicted samples. Use `zero_division` parameter to control this behavior.\n",
      "  _warn_prf(average, modifier, f\"{metric.capitalize()} is\", len(result))\n",
      "c:\\Users\\ShirO KurO\\anaconda3\\Lib\\site-packages\\sklearn\\metrics\\_classification.py:1565: UndefinedMetricWarning: Precision is ill-defined and being set to 0.0 in labels with no predicted samples. Use `zero_division` parameter to control this behavior.\n",
      "  _warn_prf(average, modifier, f\"{metric.capitalize()} is\", len(result))\n",
      "c:\\Users\\ShirO KurO\\anaconda3\\Lib\\site-packages\\sklearn\\metrics\\_classification.py:1565: UndefinedMetricWarning: Precision is ill-defined and being set to 0.0 in labels with no predicted samples. Use `zero_division` parameter to control this behavior.\n",
      "  _warn_prf(average, modifier, f\"{metric.capitalize()} is\", len(result))\n",
      "c:\\Users\\ShirO KurO\\anaconda3\\Lib\\site-packages\\sklearn\\metrics\\_classification.py:1565: UndefinedMetricWarning: Precision is ill-defined and being set to 0.0 in labels with no predicted samples. Use `zero_division` parameter to control this behavior.\n",
      "  _warn_prf(average, modifier, f\"{metric.capitalize()} is\", len(result))\n",
      "c:\\Users\\ShirO KurO\\anaconda3\\Lib\\site-packages\\sklearn\\metrics\\_classification.py:1565: UndefinedMetricWarning: Precision is ill-defined and being set to 0.0 in labels with no predicted samples. Use `zero_division` parameter to control this behavior.\n",
      "  _warn_prf(average, modifier, f\"{metric.capitalize()} is\", len(result))\n",
      "c:\\Users\\ShirO KurO\\anaconda3\\Lib\\site-packages\\sklearn\\metrics\\_classification.py:1565: UndefinedMetricWarning: Precision is ill-defined and being set to 0.0 in labels with no predicted samples. Use `zero_division` parameter to control this behavior.\n",
      "  _warn_prf(average, modifier, f\"{metric.capitalize()} is\", len(result))\n"
     ]
    },
    {
     "data": {
      "application/vnd.microsoft.datawrangler.viewer.v0+json": {
       "columns": [
        {
         "name": "index",
         "rawType": "int64",
         "type": "integer"
        },
        {
         "name": "Model",
         "rawType": "object",
         "type": "string"
        },
        {
         "name": "Accuracy",
         "rawType": "float64",
         "type": "float"
        }
       ],
       "ref": "fafc660b-dfc0-4e7c-8f5d-dc6f5ed3a2ce",
       "rows": [
        [
         "3",
         "Decision Tree",
         "0.9866666666666667"
        ],
        [
         "4",
         "Random Forest",
         "0.96"
        ],
        [
         "2",
         "Support Vector Machine",
         "0.7733333333333333"
        ],
        [
         "1",
         "K-Nearest Neighbors",
         "0.72"
        ],
        [
         "0",
         "Logistic Regression",
         "0.7066666666666667"
        ]
       ],
       "shape": {
        "columns": 2,
        "rows": 5
       }
      },
      "text/html": [
       "<div>\n",
       "<style scoped>\n",
       "    .dataframe tbody tr th:only-of-type {\n",
       "        vertical-align: middle;\n",
       "    }\n",
       "\n",
       "    .dataframe tbody tr th {\n",
       "        vertical-align: top;\n",
       "    }\n",
       "\n",
       "    .dataframe thead th {\n",
       "        text-align: right;\n",
       "    }\n",
       "</style>\n",
       "<table border=\"1\" class=\"dataframe\">\n",
       "  <thead>\n",
       "    <tr style=\"text-align: right;\">\n",
       "      <th></th>\n",
       "      <th>Model</th>\n",
       "      <th>Accuracy</th>\n",
       "    </tr>\n",
       "  </thead>\n",
       "  <tbody>\n",
       "    <tr>\n",
       "      <th>3</th>\n",
       "      <td>Decision Tree</td>\n",
       "      <td>0.986667</td>\n",
       "    </tr>\n",
       "    <tr>\n",
       "      <th>4</th>\n",
       "      <td>Random Forest</td>\n",
       "      <td>0.960000</td>\n",
       "    </tr>\n",
       "    <tr>\n",
       "      <th>2</th>\n",
       "      <td>Support Vector Machine</td>\n",
       "      <td>0.773333</td>\n",
       "    </tr>\n",
       "    <tr>\n",
       "      <th>1</th>\n",
       "      <td>K-Nearest Neighbors</td>\n",
       "      <td>0.720000</td>\n",
       "    </tr>\n",
       "    <tr>\n",
       "      <th>0</th>\n",
       "      <td>Logistic Regression</td>\n",
       "      <td>0.706667</td>\n",
       "    </tr>\n",
       "  </tbody>\n",
       "</table>\n",
       "</div>"
      ],
      "text/plain": [
       "                    Model  Accuracy\n",
       "3           Decision Tree  0.986667\n",
       "4           Random Forest  0.960000\n",
       "2  Support Vector Machine  0.773333\n",
       "1     K-Nearest Neighbors  0.720000\n",
       "0     Logistic Regression  0.706667"
      ]
     },
     "metadata": {},
     "output_type": "display_data"
    },
    {
     "name": "stderr",
     "output_type": "stream",
     "text": [
      "C:\\Users\\ShirO KurO\\AppData\\Local\\Temp\\ipykernel_31916\\720159684.py:22: FutureWarning: \n",
      "\n",
      "Passing `palette` without assigning `hue` is deprecated and will be removed in v0.14.0. Assign the `y` variable to `hue` and set `legend=False` for the same effect.\n",
      "\n",
      "  sns.barplot(x='Accuracy', y='Model', data=accuracy_df, palette='viridis')\n"
     ]
    },
    {
     "data": {
      "image/png": "[encoded data removed]",
      "text/plain": [
       "<Figure size 1000x600 with 1 Axes>"
      ]
     },
     "metadata": {},
     "output_type": "display_data"
    }
   ],
   "source": [
    "# Dictionary untuk menyimpan skor akurasi\n",
    "accuracy_scores = {}\n",
    "\n",
    "# Evaluasi setiap model\n",
    "for name, model in results.items():\n",
    "    y_pred = model.predict(X_test)\n",
    "    accuracy = accuracy_score(y_test, y_pred)\n",
    "    accuracy_scores[name] = accuracy\n",
    "    \n",
    "    print(f\"--- Laporan Klasifikasi untuk {name} ---\")\n",
    "    print(f\"Akurasi: {accuracy:.4f}\")\n",
    "    print(classification_report(y_test, y_pred, target_names=['Rendah', 'Sedang', 'Tinggi']))\n",
    "    print(\"-\"*(40+len(name)))\n",
    "\n",
    "# Menampilkan perbandingan akurasi\n",
    "print(\"\\n=== Perbandingan Akurasi Model ===\")\n",
    "accuracy_df = pd.DataFrame(list(accuracy_scores.items()), columns=['Model', 'Accuracy']).sort_values('Accuracy', ascending=False)\n",
    "display(accuracy_df)\n",
    "\n",
    "# Visualisasi perbandingan\n",
    "plt.figure(figsize=(10, 6))\n",
    "sns.barplot(x='Accuracy', y='Model', data=accuracy_df, palette='viridis')\n",
    "plt.title('Perbandingan Akurasi Lima Model Klasifikasi')\n",
    "plt.xlabel('Akurasi')\n",
    "plt.ylabel('Model')\n",
    "plt.xlim(0.8, 1.0)\n",
    "plt.show()"
   ]
  },
  {
   "cell_type": "markdown",
   "id": "74e435b3",
   "metadata": {},
   "source": [
    "## Menambahkan Prediksi ke File CSV\n",
    "\n",
    "Sebagai langkah terakhir, kita akan menggunakan model terbaik (Random Forest, berdasarkan hasil di atas) untuk memprediksi seluruh dataset dan menyimpan hasilnya ke dalam file CSV baru."
   ]
  },
  {
   "cell_type": "code",
   "execution_count": 13,
   "id": "6f2b972d",
   "metadata": {},
   "outputs": [
    {
     "name": "stdout",
     "output_type": "stream",
     "text": [
      "Model terbaik adalah: Decision Tree\n",
      "\n",
      "DataFrame dengan kolom prediksi:\n"
     ]
    },
    {
     "data": {
      "application/vnd.microsoft.datawrangler.viewer.v0+json": {
       "columns": [
        {
         "name": "index",
         "rawType": "int64",
         "type": "integer"
        },
        {
         "name": "student_id",
         "rawType": "object",
         "type": "string"
        },
        {
         "name": "name",
         "rawType": "object",
         "type": "string"
        },
        {
         "name": "gpa",
         "rawType": "float64",
         "type": "float"
        },
        {
         "name": "weekly_study_hours",
         "rawType": "float64",
         "type": "float"
        },
        {
         "name": "sleep_hours_per_night",
         "rawType": "float64",
         "type": "float"
        },
        {
         "name": "social_events_per_week",
         "rawType": "float64",
         "type": "float"
        },
        {
         "name": "exercise_hours_per_week",
         "rawType": "float64",
         "type": "float"
        },
        {
         "name": "part_time_job_hours",
         "rawType": "int64",
         "type": "integer"
        },
        {
         "name": "commute_time_minutes",
         "rawType": "int64",
         "type": "integer"
        },
        {
         "name": "financial_stress_level",
         "rawType": "float64",
         "type": "float"
        },
        {
         "name": "assignments_due_this_week",
         "rawType": "int64",
         "type": "integer"
        },
        {
         "name": "classes_per_week",
         "rawType": "int64",
         "type": "integer"
        },
        {
         "name": "extracurricular_hours",
         "rawType": "float64",
         "type": "float"
        },
        {
         "name": "stress_level",
         "rawType": "int64",
         "type": "integer"
        },
        {
         "name": "predicted_stress_level",
         "rawType": "int64",
         "type": "integer"
        },
        {
         "name": "predicted_stress_label",
         "rawType": "object",
         "type": "string"
        }
       ],
       "ref": "5eb4b7eb-ce44-4262-bd32-6f1e1cb67463",
       "rows": [
        [
         "0",
         "STU_0001",
         "Mary Trevino",
         "3.45",
         "23.9",
         "7.3",
         "3.6",
         "0.1",
         "0",
         "30",
         "2.0",
         "2",
         "23",
         "0.4",
         "1",
         "1",
         "Sedang"
        ],
        [
         "1",
         "STU_0002",
         "Hunter Weaver",
         "3.32",
         "10.0",
         "4.4",
         "2.9",
         "0.7",
         "0",
         "37",
         "1.4",
         "5",
         "20",
         "6.7",
         "2",
         "2",
         "Tinggi"
        ],
        [
         "2",
         "STU_0003",
         "Madison Reid",
         "2.9",
         "32.6",
         "6.8",
         "0.6",
         "3.3",
         "11",
         "7",
         "1.5",
         "2",
         "24",
         "7.0",
         "2",
         "2",
         "Tinggi"
        ],
        [
         "3",
         "STU_0004",
         "Mark Stout",
         "3.31",
         "32.1",
         "5.3",
         "0.0",
         "4.9",
         "0",
         "4",
         "2.8",
         "0",
         "20",
         "3.0",
         "2",
         "2",
         "Tinggi"
        ],
        [
         "4",
         "STU_0005",
         "Joseph Smith",
         "3.49",
         "32.1",
         "7.6",
         "2.0",
         "0.2",
         "0",
         "10",
         "2.2",
         "3",
         "14",
         "1.3",
         "2",
         "2",
         "Tinggi"
        ]
       ],
       "shape": {
        "columns": 16,
        "rows": 5
       }
      },
      "text/html": [
       "<div>\n",
       "<style scoped>\n",
       "    .dataframe tbody tr th:only-of-type {\n",
       "        vertical-align: middle;\n",
       "    }\n",
       "\n",
       "    .dataframe tbody tr th {\n",
       "        vertical-align: top;\n",
       "    }\n",
       "\n",
       "    .dataframe thead th {\n",
       "        text-align: right;\n",
       "    }\n",
       "</style>\n",
       "<table border=\"1\" class=\"dataframe\">\n",
       "  <thead>\n",
       "    <tr style=\"text-align: right;\">\n",
       "      <th></th>\n",
       "      <th>student_id</th>\n",
       "      <th>name</th>\n",
       "      <th>gpa</th>\n",
       "      <th>weekly_study_hours</th>\n",
       "      <th>sleep_hours_per_night</th>\n",
       "      <th>social_events_per_week</th>\n",
       "      <th>exercise_hours_per_week</th>\n",
       "      <th>part_time_job_hours</th>\n",
       "      <th>commute_time_minutes</th>\n",
       "      <th>financial_stress_level</th>\n",
       "      <th>assignments_due_this_week</th>\n",
       "      <th>classes_per_week</th>\n",
       "      <th>extracurricular_hours</th>\n",
       "      <th>stress_level</th>\n",
       "      <th>predicted_stress_level</th>\n",
       "      <th>predicted_stress_label</th>\n",
       "    </tr>\n",
       "  </thead>\n",
       "  <tbody>\n",
       "    <tr>\n",
       "      <th>0</th>\n",
       "      <td>STU_0001</td>\n",
       "      <td>Mary Trevino</td>\n",
       "      <td>3.45</td>\n",
       "      <td>23.9</td>\n",
       "      <td>7.3</td>\n",
       "      <td>3.6</td>\n",
       "      <td>0.1</td>\n",
       "      <td>0</td>\n",
       "      <td>30</td>\n",
       "      <td>2.0</td>\n",
       "      <td>2</td>\n",
       "      <td>23</td>\n",
       "      <td>0.4</td>\n",
       "      <td>1</td>\n",
       "      <td>1</td>\n",
       "      <td>Sedang</td>\n",
       "    </tr>\n",
       "    <tr>\n",
       "      <th>1</th>\n",
       "      <td>STU_0002</td>\n",
       "      <td>Hunter Weaver</td>\n",
       "      <td>3.32</td>\n",
       "      <td>10.0</td>\n",
       "      <td>4.4</td>\n",
       "      <td>2.9</td>\n",
       "      <td>0.7</td>\n",
       "      <td>0</td>\n",
       "      <td>37</td>\n",
       "      <td>1.4</td>\n",
       "      <td>5</td>\n",
       "      <td>20</td>\n",
       "      <td>6.7</td>\n",
       "      <td>2</td>\n",
       "      <td>2</td>\n",
       "      <td>Tinggi</td>\n",
       "    </tr>\n",
       "    <tr>\n",
       "      <th>2</th>\n",
       "      <td>STU_0003</td>\n",
       "      <td>Madison Reid</td>\n",
       "      <td>2.90</td>\n",
       "      <td>32.6</td>\n",
       "      <td>6.8</td>\n",
       "      <td>0.6</td>\n",
       "      <td>3.3</td>\n",
       "      <td>11</td>\n",
       "      <td>7</td>\n",
       "      <td>1.5</td>\n",
       "      <td>2</td>\n",
       "      <td>24</td>\n",
       "      <td>7.0</td>\n",
       "      <td>2</td>\n",
       "      <td>2</td>\n",
       "      <td>Tinggi</td>\n",
       "    </tr>\n",
       "    <tr>\n",
       "      <th>3</th>\n",
       "      <td>STU_0004</td>\n",
       "      <td>Mark Stout</td>\n",
       "      <td>3.31</td>\n",
       "      <td>32.1</td>\n",
       "      <td>5.3</td>\n",
       "      <td>0.0</td>\n",
       "      <td>4.9</td>\n",
       "      <td>0</td>\n",
       "      <td>4</td>\n",
       "      <td>2.8</td>\n",
       "      <td>0</td>\n",
       "      <td>20</td>\n",
       "      <td>3.0</td>\n",
       "      <td>2</td>\n",
       "      <td>2</td>\n",
       "      <td>Tinggi</td>\n",
       "    </tr>\n",
       "    <tr>\n",
       "      <th>4</th>\n",
       "      <td>STU_0005</td>\n",
       "      <td>Joseph Smith</td>\n",
       "      <td>3.49</td>\n",
       "      <td>32.1</td>\n",
       "      <td>7.6</td>\n",
       "      <td>2.0</td>\n",
       "      <td>0.2</td>\n",
       "      <td>0</td>\n",
       "      <td>10</td>\n",
       "      <td>2.2</td>\n",
       "      <td>3</td>\n",
       "      <td>14</td>\n",
       "      <td>1.3</td>\n",
       "      <td>2</td>\n",
       "      <td>2</td>\n",
       "      <td>Tinggi</td>\n",
       "    </tr>\n",
       "  </tbody>\n",
       "</table>\n",
       "</div>"
      ],
      "text/plain": [
       "  student_id           name   gpa  weekly_study_hours  sleep_hours_per_night  \\\n",
       "0   STU_0001   Mary Trevino  3.45                23.9                    7.3   \n",
       "1   STU_0002  Hunter Weaver  3.32                10.0                    4.4   \n",
       "2   STU_0003   Madison Reid  2.90                32.6                    6.8   \n",
       "3   STU_0004     Mark Stout  3.31                32.1                    5.3   \n",
       "4   STU_0005   Joseph Smith  3.49                32.1                    7.6   \n",
       "\n",
       "   social_events_per_week  exercise_hours_per_week  part_time_job_hours  \\\n",
       "0                     3.6                      0.1                    0   \n",
       "1                     2.9                      0.7                    0   \n",
       "2                     0.6                      3.3                   11   \n",
       "3                     0.0                      4.9                    0   \n",
       "4                     2.0                      0.2                    0   \n",
       "\n",
       "   commute_time_minutes  financial_stress_level  assignments_due_this_week  \\\n",
       "0                    30                     2.0                          2   \n",
       "1                    37                     1.4                          5   \n",
       "2                     7                     1.5                          2   \n",
       "3                     4                     2.8                          0   \n",
       "4                    10                     2.2                          3   \n",
       "\n",
       "   classes_per_week  extracurricular_hours  stress_level  \\\n",
       "0                23                    0.4             1   \n",
       "1                20                    6.7             2   \n",
       "2                24                    7.0             2   \n",
       "3                20                    3.0             2   \n",
       "4                14                    1.3             2   \n",
       "\n",
       "   predicted_stress_level predicted_stress_label  \n",
       "0                       1                 Sedang  \n",
       "1                       2                 Tinggi  \n",
       "2                       2                 Tinggi  \n",
       "3                       2                 Tinggi  \n",
       "4                       2                 Tinggi  "
      ]
     },
     "metadata": {},
     "output_type": "display_data"
    },
    {
     "name": "stdout",
     "output_type": "stream",
     "text": [
      "\n",
      " Hasil prediksi berhasil disimpan ke file 'student_lifestyle_with_stress_prediction.csv'\n"
     ]
    }
   ],
   "source": [
    "# Pilih model terbaik dari hasil evaluasi\n",
    "best_model_name = accuracy_df.iloc[0]['Model']\n",
    "best_model = results[best_model_name]\n",
    "\n",
    "print(f\"Model terbaik adalah: {best_model_name}\")\n",
    "\n",
    "# Gunakan model terbaik untuk memprediksi seluruh dataset\n",
    "all_predictions = best_model.predict(X)\n",
    "\n",
    "# Tambahkan kolom prediksi ke DataFrame asli\n",
    "df['predicted_stress_level'] = all_predictions\n",
    "\n",
    "# Ubah label angka menjadi teks agar lebih mudah dibaca\n",
    "stress_map = {0: 'Rendah', 1: 'Sedang', 2: 'Tinggi'}\n",
    "df['predicted_stress_label'] = df['predicted_stress_level'].map(stress_map)\n",
    "\n",
    "# Tampilkan beberapa baris hasil dengan kolom prediksi baru\n",
    "print(\"\\nDataFrame dengan kolom prediksi:\")\n",
    "display(df.head())\n",
    "\n",
    "# Simpan hasilnya ke file CSV baru\n",
    "output_filename = 'student_lifestyle_with_stress_prediction.csv'\n",
    "df.to_csv(output_filename, index=False)\n",
    "\n",
    "print(f\"\\n Hasil prediksi berhasil disimpan ke file '{output_filename}'\")"
   ]
  }
 ],
 "metadata": {
  "kernelspec": {
   "display_name": "base",
   "language": "python",
   "name": "python3"
  },
  "language_info": {
   "codemirror_mode": {
    "name": "ipython",
    "version": 3
   },
   "file_extension": ".py",
   "mimetype": "text/x-python",
   "name": "python",
   "nbconvert_exporter": "python",
   "pygments_lexer": "ipython3",
   "version": "3.13.5"
  }
 },
 "nbformat": 4,
 "nbformat_minor": 5
}
